{
 "cells": [
  {
   "cell_type": "code",
   "execution_count": 1,
   "metadata": {},
   "outputs": [],
   "source": [
    "# Import necessary libraries\n",
    "import pandas as pd\n",
    "from sklearn.feature_extraction.text import TfidfVectorizer\n",
    "from sklearn.metrics.pairwise import cosine_similarity\n"
   ]
  },
  {
   "cell_type": "code",
   "execution_count": 2,
   "metadata": {},
   "outputs": [],
   "source": [
    "# Load the dataset\n",
    "df = pd.read_csv(r'https://raw.githubusercontent.com/YBI-Foundation/Dataset/main/Movies%20Recommendation.csv')\n",
    "\n",
    "# Features for content-based filtering\n",
    "features = ['Movie_Genre', 'Movie_Language', 'Movie_Popularity', 'Movie_Runtime', 'Movie_Vote', 'Movie_Vote_Count']\n",
    "\n",
    "# Fill NaN values with empty strings or zeros for numerical columns\n",
    "df[features] = df[features].fillna('')  # For categorical features\n",
    "df['Movie_Vote_Count'] = df['Movie_Vote_Count'].fillna(0)  # For numerical features\n"
   ]
  },
  {
   "cell_type": "code",
   "execution_count": 3,
   "metadata": {},
   "outputs": [],
   "source": [
    "# Combine features into a single column\n",
    "df['combined_features'] = df.apply(lambda row: ' '.join([str(row[feature]) for feature in features]), axis=1)\n"
   ]
  },
  {
   "cell_type": "code",
   "execution_count": 4,
   "metadata": {},
   "outputs": [],
   "source": [
    "# Create a TF-IDF matrix based on combined features\n",
    "tfidf_vectorizer = TfidfVectorizer(stop_words='english')\n",
    "tfidf_matrix = tfidf_vectorizer.fit_transform(df['combined_features'])\n"
   ]
  },
  {
   "cell_type": "code",
   "execution_count": 5,
   "metadata": {},
   "outputs": [],
   "source": [
    "# Calculate cosine similarity between movies based on features\n",
    "movie_similarity = cosine_similarity(tfidf_matrix)\n",
    "\n",
    "# Create a DataFrame with movie similarity values\n",
    "movie_similarity_df = pd.DataFrame(movie_similarity, index=df['Movie_ID'], columns=df['Movie_ID'])"
   ]
  },
  {
   "cell_type": "code",
   "execution_count": 6,
   "metadata": {},
   "outputs": [],
   "source": [
    "# Function to get movie recommendations using content-based filtering\n",
    "def get_content_based_recommendations(movie_id, num_recommendations=5):\n",
    "    similar_movies = movie_similarity_df[movie_id].sort_values(ascending=False)[1:num_recommendations+1]\n",
    "    recommended_movies = df[df['Movie_ID'].isin(similar_movies.index)][['Movie_ID', 'Movie_Title']]\n",
    "    return recommended_movies"
   ]
  },
  {
   "cell_type": "code",
   "execution_count": 23,
   "metadata": {},
   "outputs": [
    {
     "name": "stdout",
     "output_type": "stream",
     "text": [
      "Your Recommendations for Movie with id 1000 are:\n",
      "      Movie_ID Movie_Title\n",
      "209        210     Monster\n",
      "430        431  Eraserhead\n",
      "2246      2247     Mirrors\n",
      "3188      3189   You Again\n",
      "4394      4406  Rudderless\n"
     ]
    }
   ],
   "source": [
    "# Example usage of content-based filtering recommendation system\n",
    "movie_id = 1000\n",
    "content_based_recommendations = get_content_based_recommendations(movie_id)\n",
    "print(f\"Your Recommendations for Movie with id {movie_id} are:\")\n",
    "print(content_based_recommendations)"
   ]
  }
 ],
 "metadata": {
  "kernelspec": {
   "display_name": "Python 3",
   "language": "python",
   "name": "python3"
  },
  "language_info": {
   "codemirror_mode": {
    "name": "ipython",
    "version": 3
   },
   "file_extension": ".py",
   "mimetype": "text/x-python",
   "name": "python",
   "nbconvert_exporter": "python",
   "pygments_lexer": "ipython3",
   "version": "3.12.2"
  }
 },
 "nbformat": 4,
 "nbformat_minor": 2
}
